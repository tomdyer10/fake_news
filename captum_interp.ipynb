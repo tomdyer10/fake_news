{
  "nbformat": 4,
  "nbformat_minor": 0,
  "metadata": {
    "colab": {
      "name": "captum_interp.ipynb",
      "provenance": [],
      "collapsed_sections": [],
      "machine_shape": "hm",
      "mount_file_id": "1qjgqGWYx4sPptGLxzhHNDHj8kvIrmkr5",
      "authorship_tag": "ABX9TyNcSYNoXpeAxXIOcLyLdYM5",
      "include_colab_link": true
    },
    "kernelspec": {
      "name": "python3",
      "display_name": "Python 3"
    }
  },
  "cells": [
    {
      "cell_type": "markdown",
      "metadata": {
        "id": "view-in-github",
        "colab_type": "text"
      },
      "source": [
        "<a href=\"https://colab.research.google.com/github/tomdyer10/fake_news/blob/master/captum_interp.ipynb\" target=\"_parent\"><img src=\"https://colab.research.google.com/assets/colab-badge.svg\" alt=\"Open In Colab\"/></a>"
      ]
    },
    {
      "cell_type": "markdown",
      "metadata": {
        "id": "CkhNN6tgjN5v",
        "colab_type": "text"
      },
      "source": [
        "**Notebook Summary:**\n",
        "\n",
        "Applying the Captum interpretability library to our news reliability classifier model, outputting word importances for the given classification. \n",
        "\n",
        "Shout out to members of the London Fast AI study group who also did great work on this topic.\n",
        "\n",
        "References:\n",
        "\n",
        "Captum docs - https://captum.ai/\n",
        "\n",
        "Integrated Gradients paper - https://arxiv.org/abs/1703.01365\n"
      ]
    },
    {
      "cell_type": "code",
      "metadata": {
        "id": "10kV88ZHhGqK",
        "colab_type": "code",
        "outputId": "504071cc-6c98-41fc-9180-498bf8a8b522",
        "colab": {
          "base_uri": "https://localhost:8080/",
          "height": 476
        }
      },
      "source": [
        "!pip install captum\n",
        "!pip install transformers"
      ],
      "execution_count": 2,
      "outputs": [
        {
          "output_type": "stream",
          "text": [
            "Requirement already satisfied: captum in /usr/local/lib/python3.6/dist-packages (0.2.0)\n",
            "Requirement already satisfied: torch>=1.2 in /usr/local/lib/python3.6/dist-packages (from captum) (1.5.0+cu101)\n",
            "Requirement already satisfied: matplotlib in /usr/local/lib/python3.6/dist-packages (from captum) (3.2.1)\n",
            "Requirement already satisfied: numpy in /usr/local/lib/python3.6/dist-packages (from captum) (1.18.4)\n",
            "Requirement already satisfied: future in /usr/local/lib/python3.6/dist-packages (from torch>=1.2->captum) (0.16.0)\n",
            "Requirement already satisfied: cycler>=0.10 in /usr/local/lib/python3.6/dist-packages (from matplotlib->captum) (0.10.0)\n",
            "Requirement already satisfied: kiwisolver>=1.0.1 in /usr/local/lib/python3.6/dist-packages (from matplotlib->captum) (1.2.0)\n",
            "Requirement already satisfied: pyparsing!=2.0.4,!=2.1.2,!=2.1.6,>=2.0.1 in /usr/local/lib/python3.6/dist-packages (from matplotlib->captum) (2.4.7)\n",
            "Requirement already satisfied: python-dateutil>=2.1 in /usr/local/lib/python3.6/dist-packages (from matplotlib->captum) (2.8.1)\n",
            "Requirement already satisfied: six in /usr/local/lib/python3.6/dist-packages (from cycler>=0.10->matplotlib->captum) (1.12.0)\n",
            "Requirement already satisfied: transformers in /usr/local/lib/python3.6/dist-packages (2.9.0)\n",
            "Requirement already satisfied: filelock in /usr/local/lib/python3.6/dist-packages (from transformers) (3.0.12)\n",
            "Requirement already satisfied: dataclasses; python_version < \"3.7\" in /usr/local/lib/python3.6/dist-packages (from transformers) (0.7)\n",
            "Requirement already satisfied: tqdm>=4.27 in /usr/local/lib/python3.6/dist-packages (from transformers) (4.41.1)\n",
            "Requirement already satisfied: requests in /usr/local/lib/python3.6/dist-packages (from transformers) (2.23.0)\n",
            "Requirement already satisfied: tokenizers==0.7.0 in /usr/local/lib/python3.6/dist-packages (from transformers) (0.7.0)\n",
            "Requirement already satisfied: sacremoses in /usr/local/lib/python3.6/dist-packages (from transformers) (0.0.43)\n",
            "Requirement already satisfied: numpy in /usr/local/lib/python3.6/dist-packages (from transformers) (1.18.4)\n",
            "Requirement already satisfied: sentencepiece in /usr/local/lib/python3.6/dist-packages (from transformers) (0.1.86)\n",
            "Requirement already satisfied: regex!=2019.12.17 in /usr/local/lib/python3.6/dist-packages (from transformers) (2019.12.20)\n",
            "Requirement already satisfied: idna<3,>=2.5 in /usr/local/lib/python3.6/dist-packages (from requests->transformers) (2.9)\n",
            "Requirement already satisfied: chardet<4,>=3.0.2 in /usr/local/lib/python3.6/dist-packages (from requests->transformers) (3.0.4)\n",
            "Requirement already satisfied: certifi>=2017.4.17 in /usr/local/lib/python3.6/dist-packages (from requests->transformers) (2020.4.5.1)\n",
            "Requirement already satisfied: urllib3!=1.25.0,!=1.25.1,<1.26,>=1.21.1 in /usr/local/lib/python3.6/dist-packages (from requests->transformers) (1.24.3)\n",
            "Requirement already satisfied: click in /usr/local/lib/python3.6/dist-packages (from sacremoses->transformers) (7.1.2)\n",
            "Requirement already satisfied: joblib in /usr/local/lib/python3.6/dist-packages (from sacremoses->transformers) (0.14.1)\n",
            "Requirement already satisfied: six in /usr/local/lib/python3.6/dist-packages (from sacremoses->transformers) (1.12.0)\n"
          ],
          "name": "stdout"
        }
      ]
    },
    {
      "cell_type": "code",
      "metadata": {
        "id": "Sebet23bgot2",
        "colab_type": "code",
        "colab": {}
      },
      "source": [
        "import pandas as pd \n",
        "import numpy as np\n",
        "\n",
        "\n",
        "import torch\n",
        "import torch.optim as optim\n",
        "\n",
        "import random \n",
        "\n",
        "# fastai\n",
        "from fastai import *\n",
        "from fastai.text import *\n",
        "from fastai.callbacks import *\n",
        "\n",
        "# transformers\n",
        "from transformers import PreTrainedModel, PreTrainedTokenizer, PretrainedConfig\n",
        "from transformers import BertForSequenceClassification, BertTokenizer, BertConfig\n",
        "from transformers import AdamW\n",
        "\n",
        "from functools import partial"
      ],
      "execution_count": 0,
      "outputs": []
    },
    {
      "cell_type": "markdown",
      "metadata": {
        "id": "mTr-_tLg1YE9",
        "colab_type": "text"
      },
      "source": [
        "# Define helper functions for fastai+bert integration\n",
        "\n",
        "More detailed run through of this code found in model training notebook."
      ]
    },
    {
      "cell_type": "code",
      "metadata": {
        "id": "hJrUTXs3hhxg",
        "colab_type": "code",
        "colab": {}
      },
      "source": [
        "model_type = 'bert'\n",
        "pretrained_model_name='bert-base-uncased'\n",
        "\n",
        "model_class = BertForSequenceClassification\n",
        "tokenizer_class = BertTokenizer\n",
        "config_class = BertConfig\n",
        "\n",
        "class TransformersBaseTokenizer(BaseTokenizer):\n",
        "    \"\"\"Wrapper around PreTrainedTokenizer to be compatible with fast.ai\"\"\"\n",
        "    def __init__(self, pretrained_tokenizer: PreTrainedTokenizer, model_type = 'bert', **kwargs):\n",
        "        self._pretrained_tokenizer = pretrained_tokenizer\n",
        "        #halving max_seq_len to reduce strain on colab gpu\n",
        "        self.max_seq_len = 350\n",
        "        self.model_type = model_type\n",
        "\n",
        "    def __call__(self, *args, **kwargs): \n",
        "        return self\n",
        "\n",
        "    def tokenizer(self, t:str) -> List[str]:\n",
        "        \"\"\"Limits the maximum sequence length and add the spesial tokens\"\"\"\n",
        "        CLS = self._pretrained_tokenizer.cls_token\n",
        "        SEP = self._pretrained_tokenizer.sep_token\n",
        "        tokens = self._pretrained_tokenizer.tokenize(t)[:self.max_seq_len - 2]\n",
        "        tokens = [CLS] + tokens + [SEP]\n",
        "        return tokens\n",
        "        \n",
        "transformer_tokenizer = tokenizer_class.from_pretrained(pretrained_model_name)\n",
        "transformer_base_tokenizer = TransformersBaseTokenizer(pretrained_tokenizer = transformer_tokenizer, model_type = model_type)\n",
        "fastai_tokenizer = Tokenizer(tok_func = transformer_base_tokenizer, pre_rules=[], post_rules=[])"
      ],
      "execution_count": 0,
      "outputs": []
    },
    {
      "cell_type": "code",
      "metadata": {
        "id": "bvDoMqjJzOAr",
        "colab_type": "code",
        "colab": {}
      },
      "source": [
        "class TransformersVocab(Vocab):\n",
        "    def __init__(self, tokenizer: PreTrainedTokenizer):\n",
        "        super(TransformersVocab, self).__init__(itos = [])\n",
        "        self.tokenizer = tokenizer\n",
        "    \n",
        "    def numericalize(self, t:Collection[str]) -> List[int]:\n",
        "        \"Convert a list of tokens `t` to their ids.\"\n",
        "        return self.tokenizer.convert_tokens_to_ids(t)\n",
        "        #return self.tokenizer.encode(t)\n",
        "\n",
        "    def textify(self, nums:Collection[int], sep=' ') -> List[str]:\n",
        "        \"Convert a list of `nums` to their tokens.\"\n",
        "        nums = np.array(nums).tolist()\n",
        "        return sep.join(self.tokenizer.convert_ids_to_tokens(nums)) if sep is not None else self.tokenizer.convert_ids_to_tokens(nums)\n",
        "        \n",
        "    def __getstate__(self):\n",
        "        return {'itos':self.itos, 'tokenizer':self.tokenizer}\n",
        "\n",
        "    def __setstate__(self, state:dict):\n",
        "        self.itos = state['itos']\n",
        "        self.tokenizer = state['tokenizer']\n",
        "        self.stoi = collections.defaultdict(int,{v:k for k,v in enumerate(self.itos)})\n",
        "\n",
        "\n",
        "transformer_vocab =  TransformersVocab(tokenizer = transformer_tokenizer)\n",
        "numericalize_processor = NumericalizeProcessor(vocab=transformer_vocab)\n",
        "\n",
        "tokenize_processor = TokenizeProcessor(tokenizer=fastai_tokenizer, \n",
        "                                       include_bos=False, \n",
        "                                       include_eos=False)\n",
        "\n",
        "transformer_processor = [tokenize_processor, numericalize_processor]"
      ],
      "execution_count": 0,
      "outputs": []
    },
    {
      "cell_type": "code",
      "metadata": {
        "id": "AcLiR8OP0VE0",
        "colab_type": "code",
        "colab": {}
      },
      "source": [
        "class CustomTransformerModel(nn.Module):\n",
        "  \n",
        "    def __init__(self, transformer_model: PreTrainedModel):\n",
        "        super(CustomTransformerModel,self).__init__()\n",
        "        self.transformer = transformer_model\n",
        "        \n",
        "    def forward(self, input_ids):\n",
        "        # Return only the logits from the transfomer\n",
        "        logits = self.transformer(input_ids)[0]   \n",
        "        return logits\n",
        "\n",
        "config = config_class.from_pretrained(pretrained_model_name)\n",
        "config.num_labels = 2\n",
        "\n",
        "transformer_model = model_class.from_pretrained(pretrained_model_name, config = config)\n",
        "custom_transformer_model = CustomTransformerModel(transformer_model = transformer_model)"
      ],
      "execution_count": 0,
      "outputs": []
    },
    {
      "cell_type": "code",
      "metadata": {
        "id": "i8vO1eXj060S",
        "colab_type": "code",
        "colab": {}
      },
      "source": [
        "\n",
        "CustomAdamW = partial(AdamW, correct_bias=False)"
      ],
      "execution_count": 0,
      "outputs": []
    },
    {
      "cell_type": "code",
      "metadata": {
        "id": "037Wy9Z30_ss",
        "colab_type": "code",
        "outputId": "d6f45b9b-f809-4868-cd3f-232338eb5d3b",
        "colab": {
          "base_uri": "https://localhost:8080/",
          "height": 17
        }
      },
      "source": [
        "bert = load_learner('drive/My Drive/fake_news_1/models/', 'fastai+bert.pkl')"
      ],
      "execution_count": 8,
      "outputs": [
        {
          "output_type": "display_data",
          "data": {
            "text/html": [
              ""
            ],
            "text/plain": [
              "<IPython.core.display.HTML object>"
            ]
          },
          "metadata": {
            "tags": []
          }
        },
        {
          "output_type": "display_data",
          "data": {
            "text/html": [
              ""
            ],
            "text/plain": [
              "<IPython.core.display.HTML object>"
            ]
          },
          "metadata": {
            "tags": []
          }
        }
      ]
    },
    {
      "cell_type": "code",
      "metadata": {
        "id": "P-Dp3Zz41IZg",
        "colab_type": "code",
        "outputId": "cbbb098e-fcde-463e-9a07-151dae7bd317",
        "colab": {
          "base_uri": "https://localhost:8080/",
          "height": 1000
        }
      },
      "source": [
        "bert.model.eval()"
      ],
      "execution_count": 9,
      "outputs": [
        {
          "output_type": "execute_result",
          "data": {
            "text/plain": [
              "CustomTransformerModel(\n",
              "  (transformer): BertForSequenceClassification(\n",
              "    (bert): BertModel(\n",
              "      (embeddings): BertEmbeddings(\n",
              "        (word_embeddings): Embedding(30522, 768, padding_idx=0)\n",
              "        (position_embeddings): Embedding(512, 768)\n",
              "        (token_type_embeddings): Embedding(2, 768)\n",
              "        (LayerNorm): LayerNorm((768,), eps=1e-12, elementwise_affine=True)\n",
              "        (dropout): Dropout(p=0.1, inplace=False)\n",
              "      )\n",
              "      (encoder): BertEncoder(\n",
              "        (layer): ModuleList(\n",
              "          (0): BertLayer(\n",
              "            (attention): BertAttention(\n",
              "              (self): BertSelfAttention(\n",
              "                (query): Linear(in_features=768, out_features=768, bias=True)\n",
              "                (key): Linear(in_features=768, out_features=768, bias=True)\n",
              "                (value): Linear(in_features=768, out_features=768, bias=True)\n",
              "                (dropout): Dropout(p=0.1, inplace=False)\n",
              "              )\n",
              "              (output): BertSelfOutput(\n",
              "                (dense): Linear(in_features=768, out_features=768, bias=True)\n",
              "                (LayerNorm): LayerNorm((768,), eps=1e-12, elementwise_affine=True)\n",
              "                (dropout): Dropout(p=0.1, inplace=False)\n",
              "              )\n",
              "            )\n",
              "            (intermediate): BertIntermediate(\n",
              "              (dense): Linear(in_features=768, out_features=3072, bias=True)\n",
              "            )\n",
              "            (output): BertOutput(\n",
              "              (dense): Linear(in_features=3072, out_features=768, bias=True)\n",
              "              (LayerNorm): LayerNorm((768,), eps=1e-12, elementwise_affine=True)\n",
              "              (dropout): Dropout(p=0.1, inplace=False)\n",
              "            )\n",
              "          )\n",
              "          (1): BertLayer(\n",
              "            (attention): BertAttention(\n",
              "              (self): BertSelfAttention(\n",
              "                (query): Linear(in_features=768, out_features=768, bias=True)\n",
              "                (key): Linear(in_features=768, out_features=768, bias=True)\n",
              "                (value): Linear(in_features=768, out_features=768, bias=True)\n",
              "                (dropout): Dropout(p=0.1, inplace=False)\n",
              "              )\n",
              "              (output): BertSelfOutput(\n",
              "                (dense): Linear(in_features=768, out_features=768, bias=True)\n",
              "                (LayerNorm): LayerNorm((768,), eps=1e-12, elementwise_affine=True)\n",
              "                (dropout): Dropout(p=0.1, inplace=False)\n",
              "              )\n",
              "            )\n",
              "            (intermediate): BertIntermediate(\n",
              "              (dense): Linear(in_features=768, out_features=3072, bias=True)\n",
              "            )\n",
              "            (output): BertOutput(\n",
              "              (dense): Linear(in_features=3072, out_features=768, bias=True)\n",
              "              (LayerNorm): LayerNorm((768,), eps=1e-12, elementwise_affine=True)\n",
              "              (dropout): Dropout(p=0.1, inplace=False)\n",
              "            )\n",
              "          )\n",
              "          (2): BertLayer(\n",
              "            (attention): BertAttention(\n",
              "              (self): BertSelfAttention(\n",
              "                (query): Linear(in_features=768, out_features=768, bias=True)\n",
              "                (key): Linear(in_features=768, out_features=768, bias=True)\n",
              "                (value): Linear(in_features=768, out_features=768, bias=True)\n",
              "                (dropout): Dropout(p=0.1, inplace=False)\n",
              "              )\n",
              "              (output): BertSelfOutput(\n",
              "                (dense): Linear(in_features=768, out_features=768, bias=True)\n",
              "                (LayerNorm): LayerNorm((768,), eps=1e-12, elementwise_affine=True)\n",
              "                (dropout): Dropout(p=0.1, inplace=False)\n",
              "              )\n",
              "            )\n",
              "            (intermediate): BertIntermediate(\n",
              "              (dense): Linear(in_features=768, out_features=3072, bias=True)\n",
              "            )\n",
              "            (output): BertOutput(\n",
              "              (dense): Linear(in_features=3072, out_features=768, bias=True)\n",
              "              (LayerNorm): LayerNorm((768,), eps=1e-12, elementwise_affine=True)\n",
              "              (dropout): Dropout(p=0.1, inplace=False)\n",
              "            )\n",
              "          )\n",
              "          (3): BertLayer(\n",
              "            (attention): BertAttention(\n",
              "              (self): BertSelfAttention(\n",
              "                (query): Linear(in_features=768, out_features=768, bias=True)\n",
              "                (key): Linear(in_features=768, out_features=768, bias=True)\n",
              "                (value): Linear(in_features=768, out_features=768, bias=True)\n",
              "                (dropout): Dropout(p=0.1, inplace=False)\n",
              "              )\n",
              "              (output): BertSelfOutput(\n",
              "                (dense): Linear(in_features=768, out_features=768, bias=True)\n",
              "                (LayerNorm): LayerNorm((768,), eps=1e-12, elementwise_affine=True)\n",
              "                (dropout): Dropout(p=0.1, inplace=False)\n",
              "              )\n",
              "            )\n",
              "            (intermediate): BertIntermediate(\n",
              "              (dense): Linear(in_features=768, out_features=3072, bias=True)\n",
              "            )\n",
              "            (output): BertOutput(\n",
              "              (dense): Linear(in_features=3072, out_features=768, bias=True)\n",
              "              (LayerNorm): LayerNorm((768,), eps=1e-12, elementwise_affine=True)\n",
              "              (dropout): Dropout(p=0.1, inplace=False)\n",
              "            )\n",
              "          )\n",
              "          (4): BertLayer(\n",
              "            (attention): BertAttention(\n",
              "              (self): BertSelfAttention(\n",
              "                (query): Linear(in_features=768, out_features=768, bias=True)\n",
              "                (key): Linear(in_features=768, out_features=768, bias=True)\n",
              "                (value): Linear(in_features=768, out_features=768, bias=True)\n",
              "                (dropout): Dropout(p=0.1, inplace=False)\n",
              "              )\n",
              "              (output): BertSelfOutput(\n",
              "                (dense): Linear(in_features=768, out_features=768, bias=True)\n",
              "                (LayerNorm): LayerNorm((768,), eps=1e-12, elementwise_affine=True)\n",
              "                (dropout): Dropout(p=0.1, inplace=False)\n",
              "              )\n",
              "            )\n",
              "            (intermediate): BertIntermediate(\n",
              "              (dense): Linear(in_features=768, out_features=3072, bias=True)\n",
              "            )\n",
              "            (output): BertOutput(\n",
              "              (dense): Linear(in_features=3072, out_features=768, bias=True)\n",
              "              (LayerNorm): LayerNorm((768,), eps=1e-12, elementwise_affine=True)\n",
              "              (dropout): Dropout(p=0.1, inplace=False)\n",
              "            )\n",
              "          )\n",
              "          (5): BertLayer(\n",
              "            (attention): BertAttention(\n",
              "              (self): BertSelfAttention(\n",
              "                (query): Linear(in_features=768, out_features=768, bias=True)\n",
              "                (key): Linear(in_features=768, out_features=768, bias=True)\n",
              "                (value): Linear(in_features=768, out_features=768, bias=True)\n",
              "                (dropout): Dropout(p=0.1, inplace=False)\n",
              "              )\n",
              "              (output): BertSelfOutput(\n",
              "                (dense): Linear(in_features=768, out_features=768, bias=True)\n",
              "                (LayerNorm): LayerNorm((768,), eps=1e-12, elementwise_affine=True)\n",
              "                (dropout): Dropout(p=0.1, inplace=False)\n",
              "              )\n",
              "            )\n",
              "            (intermediate): BertIntermediate(\n",
              "              (dense): Linear(in_features=768, out_features=3072, bias=True)\n",
              "            )\n",
              "            (output): BertOutput(\n",
              "              (dense): Linear(in_features=3072, out_features=768, bias=True)\n",
              "              (LayerNorm): LayerNorm((768,), eps=1e-12, elementwise_affine=True)\n",
              "              (dropout): Dropout(p=0.1, inplace=False)\n",
              "            )\n",
              "          )\n",
              "          (6): BertLayer(\n",
              "            (attention): BertAttention(\n",
              "              (self): BertSelfAttention(\n",
              "                (query): Linear(in_features=768, out_features=768, bias=True)\n",
              "                (key): Linear(in_features=768, out_features=768, bias=True)\n",
              "                (value): Linear(in_features=768, out_features=768, bias=True)\n",
              "                (dropout): Dropout(p=0.1, inplace=False)\n",
              "              )\n",
              "              (output): BertSelfOutput(\n",
              "                (dense): Linear(in_features=768, out_features=768, bias=True)\n",
              "                (LayerNorm): LayerNorm((768,), eps=1e-12, elementwise_affine=True)\n",
              "                (dropout): Dropout(p=0.1, inplace=False)\n",
              "              )\n",
              "            )\n",
              "            (intermediate): BertIntermediate(\n",
              "              (dense): Linear(in_features=768, out_features=3072, bias=True)\n",
              "            )\n",
              "            (output): BertOutput(\n",
              "              (dense): Linear(in_features=3072, out_features=768, bias=True)\n",
              "              (LayerNorm): LayerNorm((768,), eps=1e-12, elementwise_affine=True)\n",
              "              (dropout): Dropout(p=0.1, inplace=False)\n",
              "            )\n",
              "          )\n",
              "          (7): BertLayer(\n",
              "            (attention): BertAttention(\n",
              "              (self): BertSelfAttention(\n",
              "                (query): Linear(in_features=768, out_features=768, bias=True)\n",
              "                (key): Linear(in_features=768, out_features=768, bias=True)\n",
              "                (value): Linear(in_features=768, out_features=768, bias=True)\n",
              "                (dropout): Dropout(p=0.1, inplace=False)\n",
              "              )\n",
              "              (output): BertSelfOutput(\n",
              "                (dense): Linear(in_features=768, out_features=768, bias=True)\n",
              "                (LayerNorm): LayerNorm((768,), eps=1e-12, elementwise_affine=True)\n",
              "                (dropout): Dropout(p=0.1, inplace=False)\n",
              "              )\n",
              "            )\n",
              "            (intermediate): BertIntermediate(\n",
              "              (dense): Linear(in_features=768, out_features=3072, bias=True)\n",
              "            )\n",
              "            (output): BertOutput(\n",
              "              (dense): Linear(in_features=3072, out_features=768, bias=True)\n",
              "              (LayerNorm): LayerNorm((768,), eps=1e-12, elementwise_affine=True)\n",
              "              (dropout): Dropout(p=0.1, inplace=False)\n",
              "            )\n",
              "          )\n",
              "          (8): BertLayer(\n",
              "            (attention): BertAttention(\n",
              "              (self): BertSelfAttention(\n",
              "                (query): Linear(in_features=768, out_features=768, bias=True)\n",
              "                (key): Linear(in_features=768, out_features=768, bias=True)\n",
              "                (value): Linear(in_features=768, out_features=768, bias=True)\n",
              "                (dropout): Dropout(p=0.1, inplace=False)\n",
              "              )\n",
              "              (output): BertSelfOutput(\n",
              "                (dense): Linear(in_features=768, out_features=768, bias=True)\n",
              "                (LayerNorm): LayerNorm((768,), eps=1e-12, elementwise_affine=True)\n",
              "                (dropout): Dropout(p=0.1, inplace=False)\n",
              "              )\n",
              "            )\n",
              "            (intermediate): BertIntermediate(\n",
              "              (dense): Linear(in_features=768, out_features=3072, bias=True)\n",
              "            )\n",
              "            (output): BertOutput(\n",
              "              (dense): Linear(in_features=3072, out_features=768, bias=True)\n",
              "              (LayerNorm): LayerNorm((768,), eps=1e-12, elementwise_affine=True)\n",
              "              (dropout): Dropout(p=0.1, inplace=False)\n",
              "            )\n",
              "          )\n",
              "          (9): BertLayer(\n",
              "            (attention): BertAttention(\n",
              "              (self): BertSelfAttention(\n",
              "                (query): Linear(in_features=768, out_features=768, bias=True)\n",
              "                (key): Linear(in_features=768, out_features=768, bias=True)\n",
              "                (value): Linear(in_features=768, out_features=768, bias=True)\n",
              "                (dropout): Dropout(p=0.1, inplace=False)\n",
              "              )\n",
              "              (output): BertSelfOutput(\n",
              "                (dense): Linear(in_features=768, out_features=768, bias=True)\n",
              "                (LayerNorm): LayerNorm((768,), eps=1e-12, elementwise_affine=True)\n",
              "                (dropout): Dropout(p=0.1, inplace=False)\n",
              "              )\n",
              "            )\n",
              "            (intermediate): BertIntermediate(\n",
              "              (dense): Linear(in_features=768, out_features=3072, bias=True)\n",
              "            )\n",
              "            (output): BertOutput(\n",
              "              (dense): Linear(in_features=3072, out_features=768, bias=True)\n",
              "              (LayerNorm): LayerNorm((768,), eps=1e-12, elementwise_affine=True)\n",
              "              (dropout): Dropout(p=0.1, inplace=False)\n",
              "            )\n",
              "          )\n",
              "          (10): BertLayer(\n",
              "            (attention): BertAttention(\n",
              "              (self): BertSelfAttention(\n",
              "                (query): Linear(in_features=768, out_features=768, bias=True)\n",
              "                (key): Linear(in_features=768, out_features=768, bias=True)\n",
              "                (value): Linear(in_features=768, out_features=768, bias=True)\n",
              "                (dropout): Dropout(p=0.1, inplace=False)\n",
              "              )\n",
              "              (output): BertSelfOutput(\n",
              "                (dense): Linear(in_features=768, out_features=768, bias=True)\n",
              "                (LayerNorm): LayerNorm((768,), eps=1e-12, elementwise_affine=True)\n",
              "                (dropout): Dropout(p=0.1, inplace=False)\n",
              "              )\n",
              "            )\n",
              "            (intermediate): BertIntermediate(\n",
              "              (dense): Linear(in_features=768, out_features=3072, bias=True)\n",
              "            )\n",
              "            (output): BertOutput(\n",
              "              (dense): Linear(in_features=3072, out_features=768, bias=True)\n",
              "              (LayerNorm): LayerNorm((768,), eps=1e-12, elementwise_affine=True)\n",
              "              (dropout): Dropout(p=0.1, inplace=False)\n",
              "            )\n",
              "          )\n",
              "          (11): BertLayer(\n",
              "            (attention): BertAttention(\n",
              "              (self): BertSelfAttention(\n",
              "                (query): Linear(in_features=768, out_features=768, bias=True)\n",
              "                (key): Linear(in_features=768, out_features=768, bias=True)\n",
              "                (value): Linear(in_features=768, out_features=768, bias=True)\n",
              "                (dropout): Dropout(p=0.1, inplace=False)\n",
              "              )\n",
              "              (output): BertSelfOutput(\n",
              "                (dense): Linear(in_features=768, out_features=768, bias=True)\n",
              "                (LayerNorm): LayerNorm((768,), eps=1e-12, elementwise_affine=True)\n",
              "                (dropout): Dropout(p=0.1, inplace=False)\n",
              "              )\n",
              "            )\n",
              "            (intermediate): BertIntermediate(\n",
              "              (dense): Linear(in_features=768, out_features=3072, bias=True)\n",
              "            )\n",
              "            (output): BertOutput(\n",
              "              (dense): Linear(in_features=3072, out_features=768, bias=True)\n",
              "              (LayerNorm): LayerNorm((768,), eps=1e-12, elementwise_affine=True)\n",
              "              (dropout): Dropout(p=0.1, inplace=False)\n",
              "            )\n",
              "          )\n",
              "        )\n",
              "      )\n",
              "      (pooler): BertPooler(\n",
              "        (dense): Linear(in_features=768, out_features=768, bias=True)\n",
              "        (activation): Tanh()\n",
              "      )\n",
              "    )\n",
              "    (dropout): Dropout(p=0.1, inplace=False)\n",
              "    (classifier): Linear(in_features=768, out_features=2, bias=True)\n",
              "  )\n",
              ")"
            ]
          },
          "metadata": {
            "tags": []
          },
          "execution_count": 9
        }
      ]
    },
    {
      "cell_type": "markdown",
      "metadata": {
        "id": "4BGuFKn37IYZ",
        "colab_type": "text"
      },
      "source": [
        "# Load Data and Create Databunch\n",
        "\n",
        "This will allow us to utilise the above tokenizing functions in a single call of one_item"
      ]
    },
    {
      "cell_type": "code",
      "metadata": {
        "id": "utrpLG3R3d3g",
        "colab_type": "code",
        "colab": {}
      },
      "source": [
        "path = 'drive/My Drive/fake_news_1/data/train.csv'\n",
        "df = pd.read_csv(path)\n",
        "df = df.dropna()\n",
        "df = df.sample(n=100)"
      ],
      "execution_count": 0,
      "outputs": []
    },
    {
      "cell_type": "code",
      "metadata": {
        "id": "5iDaPE_17RTt",
        "colab_type": "code",
        "outputId": "8f632f3f-8f48-4747-a6be-26363f062c8d",
        "colab": {
          "base_uri": "https://localhost:8080/",
          "height": 17
        }
      },
      "source": [
        "pad_first = False\n",
        "pad_idx = transformer_tokenizer.pad_token_id\n",
        "seed = 42\n",
        "bs=12\n",
        "\n",
        "databunch = (TextList.from_df(df, cols='text', processor=transformer_processor)\n",
        "             .split_by_rand_pct(0.1,seed=seed)\n",
        "             .label_from_df(cols= 'label')\n",
        "             .databunch(bs=bs, pad_first=pad_first, pad_idx=pad_idx))"
      ],
      "execution_count": 11,
      "outputs": [
        {
          "output_type": "display_data",
          "data": {
            "text/html": [
              ""
            ],
            "text/plain": [
              "<IPython.core.display.HTML object>"
            ]
          },
          "metadata": {
            "tags": []
          }
        },
        {
          "output_type": "display_data",
          "data": {
            "text/html": [
              ""
            ],
            "text/plain": [
              "<IPython.core.display.HTML object>"
            ]
          },
          "metadata": {
            "tags": []
          }
        }
      ]
    },
    {
      "cell_type": "markdown",
      "metadata": {
        "id": "mK4ZhwtC9HXn",
        "colab_type": "text"
      },
      "source": [
        "Tokenize single sentence"
      ]
    },
    {
      "cell_type": "code",
      "metadata": {
        "id": "psfRMBoK7ejs",
        "colab_type": "code",
        "outputId": "ab415593-1de7-47fe-a5ba-54a1cb2ea48c",
        "colab": {
          "base_uri": "https://localhost:8080/",
          "height": 34
        }
      },
      "source": [
        "x, y = databunch.one_item('this is a very short news report')\n",
        "x"
      ],
      "execution_count": 12,
      "outputs": [
        {
          "output_type": "execute_result",
          "data": {
            "text/plain": [
              "tensor([[ 101, 2023, 2003, 1037, 2200, 2460, 2739, 3189,  102]])"
            ]
          },
          "metadata": {
            "tags": []
          },
          "execution_count": 12
        }
      ]
    },
    {
      "cell_type": "code",
      "metadata": {
        "id": "Iwfulg8a8OPW",
        "colab_type": "code",
        "outputId": "37960792-1606-4e56-dc94-ad7b5e8043bb",
        "colab": {
          "base_uri": "https://localhost:8080/",
          "height": 34
        }
      },
      "source": [
        "bert.model(x)"
      ],
      "execution_count": 13,
      "outputs": [
        {
          "output_type": "execute_result",
          "data": {
            "text/plain": [
              "tensor([[-1.2859,  1.7003]], grad_fn=<AddmmBackward>)"
            ]
          },
          "metadata": {
            "tags": []
          },
          "execution_count": 13
        }
      ]
    },
    {
      "cell_type": "markdown",
      "metadata": {
        "id": "PjEuSY7P9EgJ",
        "colab_type": "text"
      },
      "source": [
        "Reverse tokenizer"
      ]
    },
    {
      "cell_type": "code",
      "metadata": {
        "id": "zxIxf7uj8Owv",
        "colab_type": "code",
        "colab": {}
      },
      "source": [
        "# transformer_vocab.textify(x[0])"
      ],
      "execution_count": 0,
      "outputs": []
    },
    {
      "cell_type": "markdown",
      "metadata": {
        "id": "IdmMq3lI955K",
        "colab_type": "text"
      },
      "source": [
        "# Implement Captum"
      ]
    },
    {
      "cell_type": "code",
      "metadata": {
        "id": "zvkcHOeXCPGL",
        "colab_type": "code",
        "colab": {}
      },
      "source": [
        "from captum.attr import LayerIntegratedGradients, TokenReferenceBase, visualization"
      ],
      "execution_count": 0,
      "outputs": []
    },
    {
      "cell_type": "markdown",
      "metadata": {
        "id": "CuC--iIqmo4k",
        "colab_type": "text"
      },
      "source": [
        "Define forward function with softmax"
      ]
    },
    {
      "cell_type": "code",
      "metadata": {
        "id": "MBQHDoAs8wX9",
        "colab_type": "code",
        "outputId": "a78c7beb-9376-412a-cdcb-81fdb5e3a3e6",
        "colab": {
          "base_uri": "https://localhost:8080/",
          "height": 34
        }
      },
      "source": [
        "forward_func = lambda x: torch.softmax(bert.model(x)[0], dim=-1)\n",
        "forward_func(x)"
      ],
      "execution_count": 16,
      "outputs": [
        {
          "output_type": "execute_result",
          "data": {
            "text/plain": [
              "tensor([0.0481, 0.9519], grad_fn=<SoftmaxBackward>)"
            ]
          },
          "metadata": {
            "tags": []
          },
          "execution_count": 16
        }
      ]
    },
    {
      "cell_type": "markdown",
      "metadata": {
        "id": "xD3poRYdmsGy",
        "colab_type": "text"
      },
      "source": [
        "Define BERT embedding layer for integrated gradients"
      ]
    },
    {
      "cell_type": "code",
      "metadata": {
        "id": "JfP_yXNV-K1D",
        "colab_type": "code",
        "outputId": "795e65fd-88c4-4cde-fe85-c93d67b01bb3",
        "colab": {
          "base_uri": "https://localhost:8080/",
          "height": 34
        }
      },
      "source": [
        "embedding_layer = bert.model.transformer.bert.embeddings\n",
        "embedding_layer(x).shape"
      ],
      "execution_count": 17,
      "outputs": [
        {
          "output_type": "execute_result",
          "data": {
            "text/plain": [
              "torch.Size([1, 9, 768])"
            ]
          },
          "metadata": {
            "tags": []
          },
          "execution_count": 17
        }
      ]
    },
    {
      "cell_type": "markdown",
      "metadata": {
        "id": "TxetMQBFmxam",
        "colab_type": "text"
      },
      "source": [
        "Init layered integrated gradients"
      ]
    },
    {
      "cell_type": "code",
      "metadata": {
        "id": "Nt2brexw-0ob",
        "colab_type": "code",
        "colab": {}
      },
      "source": [
        "lig = LayerIntegratedGradients(forward_func, embedding_layer)"
      ],
      "execution_count": 0,
      "outputs": []
    },
    {
      "cell_type": "code",
      "metadata": {
        "id": "4pFP9Qyg-1h7",
        "colab_type": "code",
        "outputId": "bf2cf31a-4b7d-4e75-80ab-ff1b9a185333",
        "colab": {
          "base_uri": "https://localhost:8080/",
          "height": 51
        }
      },
      "source": [
        "sentence = 'This is a clip of real, totally real news man'\n",
        "sentence_tokens = bert.data.one_item(sentence)[0]\n",
        "sentence_tokens"
      ],
      "execution_count": 19,
      "outputs": [
        {
          "output_type": "execute_result",
          "data": {
            "text/plain": [
              "tensor([[  101,  2023,  2003,  1037, 12528,  1997,  2613,  1010,  6135,  2613,\n",
              "          2739,  2158,   102]])"
            ]
          },
          "metadata": {
            "tags": []
          },
          "execution_count": 19
        }
      ]
    },
    {
      "cell_type": "code",
      "metadata": {
        "id": "PywLyvLa_-IG",
        "colab_type": "code",
        "outputId": "82db0ad5-de0e-40ac-a796-f33305a56b7c",
        "colab": {
          "base_uri": "https://localhost:8080/",
          "height": 34
        }
      },
      "source": [
        "transformer_vocab.tokenizer.pad_token_id"
      ],
      "execution_count": 20,
      "outputs": [
        {
          "output_type": "execute_result",
          "data": {
            "text/plain": [
              "0"
            ]
          },
          "metadata": {
            "tags": []
          },
          "execution_count": 20
        }
      ]
    },
    {
      "cell_type": "code",
      "metadata": {
        "id": "KJqpjr1qAx2P",
        "colab_type": "code",
        "outputId": "789d48f2-cf95-4f42-e652-1a9766f46c67",
        "colab": {
          "base_uri": "https://localhost:8080/",
          "height": 34
        }
      },
      "source": [
        "transformer_vocab.tokenizer.cls_token_id"
      ],
      "execution_count": 21,
      "outputs": [
        {
          "output_type": "execute_result",
          "data": {
            "text/plain": [
              "101"
            ]
          },
          "metadata": {
            "tags": []
          },
          "execution_count": 21
        }
      ]
    },
    {
      "cell_type": "markdown",
      "metadata": {
        "id": "nfl-IBYWArh2",
        "colab_type": "text"
      },
      "source": [
        "Create baseline"
      ]
    },
    {
      "cell_type": "code",
      "metadata": {
        "id": "bT4W6KiqAgb9",
        "colab_type": "code",
        "outputId": "37ad7dc5-11ee-4ee3-9fd7-b1494f6bf559",
        "colab": {
          "base_uri": "https://localhost:8080/",
          "height": 34
        }
      },
      "source": [
        "baseline = torch.zeros_like(sentence_tokens)\n",
        "baseline[0,0] = 101\n",
        "baseline[0, -1] = 102\n",
        "baseline.shape"
      ],
      "execution_count": 22,
      "outputs": [
        {
          "output_type": "execute_result",
          "data": {
            "text/plain": [
              "torch.Size([1, 13])"
            ]
          },
          "metadata": {
            "tags": []
          },
          "execution_count": 22
        }
      ]
    },
    {
      "cell_type": "code",
      "metadata": {
        "id": "6sJyJuWMBeqq",
        "colab_type": "code",
        "outputId": "28bf63a3-7ab9-4079-cb9a-fe911fe4cb21",
        "colab": {
          "base_uri": "https://localhost:8080/",
          "height": 34
        }
      },
      "source": [
        "sentence_tokens.shape"
      ],
      "execution_count": 23,
      "outputs": [
        {
          "output_type": "execute_result",
          "data": {
            "text/plain": [
              "torch.Size([1, 13])"
            ]
          },
          "metadata": {
            "tags": []
          },
          "execution_count": 23
        }
      ]
    },
    {
      "cell_type": "code",
      "metadata": {
        "id": "6BcyipLNBAlE",
        "colab_type": "code",
        "colab": {}
      },
      "source": [
        "# attrs, delta = lig.attribute(sentence_tokens, baseline, n_steps=100, return_convergence_delta=True)\n",
        "# attrs.shape"
      ],
      "execution_count": 0,
      "outputs": []
    },
    {
      "cell_type": "markdown",
      "metadata": {
        "id": "F7PcboAhCpfX",
        "colab_type": "text"
      },
      "source": [
        "# Visualize outputs\n",
        "\n",
        "(only able to visualize a sample section of text given memory constraints)"
      ]
    },
    {
      "cell_type": "markdown",
      "metadata": {
        "id": "yIzpoaoNfNB5",
        "colab_type": "text"
      },
      "source": [
        "Lets get some example text"
      ]
    },
    {
      "cell_type": "code",
      "metadata": {
        "id": "_3ZNwqrvfMcr",
        "colab_type": "code",
        "outputId": "4ac4c811-dcf1-45bd-bbee-7e05f03a646c",
        "colab": {
          "base_uri": "https://localhost:8080/",
          "height": 119
        }
      },
      "source": [
        "df.iloc[4]"
      ],
      "execution_count": 74,
      "outputs": [
        {
          "output_type": "execute_result",
          "data": {
            "text/plain": [
              "id                                                    20115\n",
              "title     Florida: Taco Trucks Used to “Lure” Democrat V...\n",
              "author                                                admin\n",
              "text      Information Liberation October 26, 2016 \\nVide...\n",
              "label                                                     1\n",
              "Name: 20115, dtype: object"
            ]
          },
          "metadata": {
            "tags": []
          },
          "execution_count": 74
        }
      ]
    },
    {
      "cell_type": "markdown",
      "metadata": {
        "id": "xzjklHaQgMW_",
        "colab_type": "text"
      },
      "source": [
        "Create tokens and baseline for our selected text"
      ]
    },
    {
      "cell_type": "code",
      "metadata": {
        "id": "irG_JLC1fyQy",
        "colab_type": "code",
        "colab": {}
      },
      "source": [
        "target = df['label'].iloc[4]\n",
        "text = df['text'].iloc[4][:300]\n",
        "tokens = bert.data.one_item(text)[0]\n",
        "baseline = torch.zeros_like(tokens)\n",
        "baseline[0,0] = 101\n",
        "baseline[0, -1] = 102"
      ],
      "execution_count": 0,
      "outputs": []
    },
    {
      "cell_type": "code",
      "metadata": {
        "id": "0dyCGT_ZfJhh",
        "colab_type": "code",
        "colab": {
          "base_uri": "https://localhost:8080/",
          "height": 102
        },
        "outputId": "e0f36ee3-0f9a-413d-dae8-094df9fe1fd0"
      },
      "source": [
        "print(baseline)"
      ],
      "execution_count": 76,
      "outputs": [
        {
          "output_type": "stream",
          "text": [
            "tensor([[101,   0,   0,   0,   0,   0,   0,   0,   0,   0,   0,   0,   0,   0,\n",
            "           0,   0,   0,   0,   0,   0,   0,   0,   0,   0,   0,   0,   0,   0,\n",
            "           0,   0,   0,   0,   0,   0,   0,   0,   0,   0,   0,   0,   0,   0,\n",
            "           0,   0,   0,   0,   0,   0,   0,   0,   0,   0,   0,   0,   0,   0,\n",
            "           0,   0,   0,   0,   0,   0,   0,   0, 102]])\n"
          ],
          "name": "stdout"
        }
      ]
    },
    {
      "cell_type": "code",
      "metadata": {
        "id": "LcZN3KgJhf3p",
        "colab_type": "code",
        "colab": {}
      },
      "source": [
        "_, predicted, raw_probs = bert.predict(text)"
      ],
      "execution_count": 0,
      "outputs": []
    },
    {
      "cell_type": "code",
      "metadata": {
        "id": "jWE6GbAwhCrf",
        "colab_type": "code",
        "outputId": "a14b9284-1f4e-45d4-e2c3-80088de825df",
        "colab": {
          "base_uri": "https://localhost:8080/",
          "height": 85
        }
      },
      "source": [
        "print(target, predicted, raw_probs, text)"
      ],
      "execution_count": 78,
      "outputs": [
        {
          "output_type": "stream",
          "text": [
            "1 tensor(1) tensor([6.0312e-06, 9.9999e-01]) Information Liberation October 26, 2016 \n",
            "Video out of Florida shows the Clinton machine is busing people to the polls and luring them to vote using taco trucks. \n",
            "Now we know what the DNC meant when they said they needed more “ taco bowl outreach .” \n",
            "SEIU, which has endorsed Hillary Clinton, appears \n"
          ],
          "name": "stdout"
        }
      ]
    },
    {
      "cell_type": "markdown",
      "metadata": {
        "id": "I6-2PqL7neR_",
        "colab_type": "text"
      },
      "source": [
        "We are getting the correct prediction even on a small section of the text."
      ]
    },
    {
      "cell_type": "code",
      "metadata": {
        "id": "cdfHXdi7f_Tq",
        "colab_type": "code",
        "colab": {}
      },
      "source": [
        "attrs, delta = lig.attribute(tokens, baseline, n_steps=150, return_convergence_delta=True)"
      ],
      "execution_count": 0,
      "outputs": []
    },
    {
      "cell_type": "code",
      "metadata": {
        "id": "cZnC3x1dliHI",
        "colab_type": "code",
        "colab": {
          "base_uri": "https://localhost:8080/",
          "height": 255
        },
        "outputId": "844d4816-e6a4-4769-a027-13d5cf394a59"
      },
      "source": [
        "attrs"
      ],
      "execution_count": 87,
      "outputs": [
        {
          "output_type": "execute_result",
          "data": {
            "text/plain": [
              "tensor([[[ 0.0000e+00,  0.0000e+00, -0.0000e+00,  ..., -0.0000e+00,\n",
              "          -0.0000e+00, -0.0000e+00],\n",
              "         [ 9.6523e-14,  3.0605e-14,  6.5893e-15,  ..., -2.7715e-14,\n",
              "          -4.6802e-14,  4.6282e-14],\n",
              "         [ 2.3694e-14, -5.2723e-14, -6.1399e-15,  ..., -8.1856e-15,\n",
              "          -1.2553e-13,  1.2239e-13],\n",
              "         ...,\n",
              "         [ 3.6491e-15,  1.2927e-13,  2.8489e-15,  ...,  3.4090e-14,\n",
              "          -8.3216e-14, -5.6480e-15],\n",
              "         [ 3.6905e-13, -3.1450e-14, -1.3440e-14,  ...,  5.1686e-14,\n",
              "          -1.5232e-14, -1.9266e-13],\n",
              "         [-0.0000e+00,  0.0000e+00,  0.0000e+00,  ..., -0.0000e+00,\n",
              "           0.0000e+00,  0.0000e+00]]], dtype=torch.float64,\n",
              "       grad_fn=<MulBackward0>)"
            ]
          },
          "metadata": {
            "tags": []
          },
          "execution_count": 87
        }
      ]
    },
    {
      "cell_type": "markdown",
      "metadata": {
        "id": "rItLtz3pqRei",
        "colab_type": "text"
      },
      "source": [
        "Normalize attributions"
      ]
    },
    {
      "cell_type": "code",
      "metadata": {
        "id": "77FaG2KiqQlA",
        "colab_type": "code",
        "colab": {
          "base_uri": "https://localhost:8080/",
          "height": 170
        },
        "outputId": "ad9365bd-59be-4475-f508-d23752fe8316"
      },
      "source": [
        "a = attrs.sum(-1)\n",
        "a = a / torch.norm(a)\n",
        "a[0]"
      ],
      "execution_count": 88,
      "outputs": [
        {
          "output_type": "execute_result",
          "data": {
            "text/plain": [
              "tensor([ 0.0000, -0.2010, -0.2404,  0.2476,  0.1297,  0.0631, -0.0952,  0.0583,\n",
              "        -0.0328,  0.0684,  0.2588,  0.0171,  0.1149,  0.0924,  0.1528,  0.0437,\n",
              "         0.1437,  0.0629,  0.2982, -0.1096, -0.0021,  0.0324,  0.0880, -0.1482,\n",
              "         0.0072, -0.0543, -0.0595, -0.1094, -0.1138,  0.0164, -0.0829,  0.1093,\n",
              "        -0.0540, -0.0763, -0.1269, -0.1489,  0.0913,  0.0856, -0.1059,  0.1419,\n",
              "         0.0631, -0.0348,  0.0540,  0.0551,  0.0722, -0.0370, -0.0397, -0.1115,\n",
              "        -0.1484, -0.1915, -0.0861,  0.2459, -0.0108,  0.0877, -0.1890,  0.0301,\n",
              "         0.0384,  0.0907,  0.0408,  0.1433,  0.0591,  0.2854, -0.2558,  0.0356,\n",
              "         0.0000], dtype=torch.float64, grad_fn=<SelectBackward>)"
            ]
          },
          "metadata": {
            "tags": []
          },
          "execution_count": 88
        }
      ]
    },
    {
      "cell_type": "code",
      "metadata": {
        "id": "OJ3Qr5X-h82H",
        "colab_type": "code",
        "colab": {}
      },
      "source": [
        "tokenized_text = transformer_base_tokenizer.tokenizer(text)"
      ],
      "execution_count": 0,
      "outputs": []
    },
    {
      "cell_type": "code",
      "metadata": {
        "id": "OkM7S-ElihyW",
        "colab_type": "code",
        "colab": {
          "base_uri": "https://localhost:8080/",
          "height": 34
        },
        "outputId": "be652831-2ca9-4972-9f0b-c4c365a8eaeb"
      },
      "source": [
        "len(tokenized_text), len(a[0])"
      ],
      "execution_count": 90,
      "outputs": [
        {
          "output_type": "execute_result",
          "data": {
            "text/plain": [
              "(65, 65)"
            ]
          },
          "metadata": {
            "tags": []
          },
          "execution_count": 90
        }
      ]
    },
    {
      "cell_type": "markdown",
      "metadata": {
        "id": "Dy9Jl1WonN4M",
        "colab_type": "text"
      },
      "source": [
        "Visualize individual word attributions"
      ]
    },
    {
      "cell_type": "code",
      "metadata": {
        "id": "rdc4nWbMgiP0",
        "colab_type": "code",
        "colab": {}
      },
      "source": [
        "viz_record = visualization.VisualizationDataRecord(a[0], raw_probs[predicted], predicted, target, target, a.sum(), tokenized_text, delta)"
      ],
      "execution_count": 0,
      "outputs": []
    },
    {
      "cell_type": "code",
      "metadata": {
        "id": "mwZz4KFke8Rh",
        "colab_type": "code",
        "colab": {
          "base_uri": "https://localhost:8080/",
          "height": 111
        },
        "outputId": "e4e12642-f660-4ac2-cd17-0394db11d636"
      },
      "source": [
        "visualization.visualize_text([viz_record])"
      ],
      "execution_count": 95,
      "outputs": [
        {
          "output_type": "display_data",
          "data": {
            "text/html": [
              "<table width: 100%><tr><th>True Label</th><th>Predicted Label</th><th>Attribution Label</th><th>Attribution Score</th><th>Word Importance</th><tr><td><text style=\"padding-right:2em\"><b>1</b></text></td><td><text style=\"padding-right:2em\"><b>1 (1.00)</b></text></td><td><text style=\"padding-right:2em\"><b>1</b></text></td><td><text style=\"padding-right:2em\"><b>0.76</b></text></td><td><mark style=\"background-color: hsl(0, 75%, 100%); opacity:1.0;                     line-height:1.75\"><font color=\"black\"> [CLS]                    </font></mark><mark style=\"background-color: hsl(0, 75%, 92%); opacity:1.0;                     line-height:1.75\"><font color=\"black\"> information                    </font></mark><mark style=\"background-color: hsl(0, 75%, 91%); opacity:1.0;                     line-height:1.75\"><font color=\"black\"> liberation                    </font></mark><mark style=\"background-color: hsl(120, 75%, 88%); opacity:1.0;                     line-height:1.75\"><font color=\"black\"> october                    </font></mark><mark style=\"background-color: hsl(120, 75%, 94%); opacity:1.0;                     line-height:1.75\"><font color=\"black\"> 26                    </font></mark><mark style=\"background-color: hsl(120, 75%, 97%); opacity:1.0;                     line-height:1.75\"><font color=\"black\"> ,                    </font></mark><mark style=\"background-color: hsl(0, 75%, 97%); opacity:1.0;                     line-height:1.75\"><font color=\"black\"> 2016                    </font></mark><mark style=\"background-color: hsl(120, 75%, 98%); opacity:1.0;                     line-height:1.75\"><font color=\"black\"> video                    </font></mark><mark style=\"background-color: hsl(0, 75%, 99%); opacity:1.0;                     line-height:1.75\"><font color=\"black\"> out                    </font></mark><mark style=\"background-color: hsl(120, 75%, 97%); opacity:1.0;                     line-height:1.75\"><font color=\"black\"> of                    </font></mark><mark style=\"background-color: hsl(120, 75%, 88%); opacity:1.0;                     line-height:1.75\"><font color=\"black\"> florida                    </font></mark><mark style=\"background-color: hsl(120, 75%, 100%); opacity:1.0;                     line-height:1.75\"><font color=\"black\"> shows                    </font></mark><mark style=\"background-color: hsl(120, 75%, 95%); opacity:1.0;                     line-height:1.75\"><font color=\"black\"> the                    </font></mark><mark style=\"background-color: hsl(120, 75%, 96%); opacity:1.0;                     line-height:1.75\"><font color=\"black\"> clinton                    </font></mark><mark style=\"background-color: hsl(120, 75%, 93%); opacity:1.0;                     line-height:1.75\"><font color=\"black\"> machine                    </font></mark><mark style=\"background-color: hsl(120, 75%, 98%); opacity:1.0;                     line-height:1.75\"><font color=\"black\"> is                    </font></mark><mark style=\"background-color: hsl(120, 75%, 93%); opacity:1.0;                     line-height:1.75\"><font color=\"black\"> bus                    </font></mark><mark style=\"background-color: hsl(120, 75%, 97%); opacity:1.0;                     line-height:1.75\"><font color=\"black\"> ##ing                    </font></mark><mark style=\"background-color: hsl(120, 75%, 86%); opacity:1.0;                     line-height:1.75\"><font color=\"black\"> people                    </font></mark><mark style=\"background-color: hsl(0, 75%, 96%); opacity:1.0;                     line-height:1.75\"><font color=\"black\"> to                    </font></mark><mark style=\"background-color: hsl(0, 75%, 100%); opacity:1.0;                     line-height:1.75\"><font color=\"black\"> the                    </font></mark><mark style=\"background-color: hsl(120, 75%, 99%); opacity:1.0;                     line-height:1.75\"><font color=\"black\"> polls                    </font></mark><mark style=\"background-color: hsl(120, 75%, 96%); opacity:1.0;                     line-height:1.75\"><font color=\"black\"> and                    </font></mark><mark style=\"background-color: hsl(0, 75%, 95%); opacity:1.0;                     line-height:1.75\"><font color=\"black\"> lu                    </font></mark><mark style=\"background-color: hsl(120, 75%, 100%); opacity:1.0;                     line-height:1.75\"><font color=\"black\"> ##ring                    </font></mark><mark style=\"background-color: hsl(0, 75%, 98%); opacity:1.0;                     line-height:1.75\"><font color=\"black\"> them                    </font></mark><mark style=\"background-color: hsl(0, 75%, 98%); opacity:1.0;                     line-height:1.75\"><font color=\"black\"> to                    </font></mark><mark style=\"background-color: hsl(0, 75%, 96%); opacity:1.0;                     line-height:1.75\"><font color=\"black\"> vote                    </font></mark><mark style=\"background-color: hsl(0, 75%, 96%); opacity:1.0;                     line-height:1.75\"><font color=\"black\"> using                    </font></mark><mark style=\"background-color: hsl(120, 75%, 100%); opacity:1.0;                     line-height:1.75\"><font color=\"black\"> ta                    </font></mark><mark style=\"background-color: hsl(0, 75%, 97%); opacity:1.0;                     line-height:1.75\"><font color=\"black\"> ##co                    </font></mark><mark style=\"background-color: hsl(120, 75%, 95%); opacity:1.0;                     line-height:1.75\"><font color=\"black\"> trucks                    </font></mark><mark style=\"background-color: hsl(0, 75%, 98%); opacity:1.0;                     line-height:1.75\"><font color=\"black\"> .                    </font></mark><mark style=\"background-color: hsl(0, 75%, 97%); opacity:1.0;                     line-height:1.75\"><font color=\"black\"> now                    </font></mark><mark style=\"background-color: hsl(0, 75%, 95%); opacity:1.0;                     line-height:1.75\"><font color=\"black\"> we                    </font></mark><mark style=\"background-color: hsl(0, 75%, 95%); opacity:1.0;                     line-height:1.75\"><font color=\"black\"> know                    </font></mark><mark style=\"background-color: hsl(120, 75%, 96%); opacity:1.0;                     line-height:1.75\"><font color=\"black\"> what                    </font></mark><mark style=\"background-color: hsl(120, 75%, 96%); opacity:1.0;                     line-height:1.75\"><font color=\"black\"> the                    </font></mark><mark style=\"background-color: hsl(0, 75%, 96%); opacity:1.0;                     line-height:1.75\"><font color=\"black\"> d                    </font></mark><mark style=\"background-color: hsl(120, 75%, 93%); opacity:1.0;                     line-height:1.75\"><font color=\"black\"> ##nc                    </font></mark><mark style=\"background-color: hsl(120, 75%, 97%); opacity:1.0;                     line-height:1.75\"><font color=\"black\"> meant                    </font></mark><mark style=\"background-color: hsl(0, 75%, 99%); opacity:1.0;                     line-height:1.75\"><font color=\"black\"> when                    </font></mark><mark style=\"background-color: hsl(120, 75%, 98%); opacity:1.0;                     line-height:1.75\"><font color=\"black\"> they                    </font></mark><mark style=\"background-color: hsl(120, 75%, 98%); opacity:1.0;                     line-height:1.75\"><font color=\"black\"> said                    </font></mark><mark style=\"background-color: hsl(120, 75%, 97%); opacity:1.0;                     line-height:1.75\"><font color=\"black\"> they                    </font></mark><mark style=\"background-color: hsl(0, 75%, 99%); opacity:1.0;                     line-height:1.75\"><font color=\"black\"> needed                    </font></mark><mark style=\"background-color: hsl(0, 75%, 99%); opacity:1.0;                     line-height:1.75\"><font color=\"black\"> more                    </font></mark><mark style=\"background-color: hsl(0, 75%, 96%); opacity:1.0;                     line-height:1.75\"><font color=\"black\"> “                    </font></mark><mark style=\"background-color: hsl(0, 75%, 95%); opacity:1.0;                     line-height:1.75\"><font color=\"black\"> ta                    </font></mark><mark style=\"background-color: hsl(0, 75%, 93%); opacity:1.0;                     line-height:1.75\"><font color=\"black\"> ##co                    </font></mark><mark style=\"background-color: hsl(0, 75%, 97%); opacity:1.0;                     line-height:1.75\"><font color=\"black\"> bowl                    </font></mark><mark style=\"background-color: hsl(120, 75%, 88%); opacity:1.0;                     line-height:1.75\"><font color=\"black\"> outreach                    </font></mark><mark style=\"background-color: hsl(0, 75%, 100%); opacity:1.0;                     line-height:1.75\"><font color=\"black\"> .                    </font></mark><mark style=\"background-color: hsl(120, 75%, 96%); opacity:1.0;                     line-height:1.75\"><font color=\"black\"> ”                    </font></mark><mark style=\"background-color: hsl(0, 75%, 93%); opacity:1.0;                     line-height:1.75\"><font color=\"black\"> se                    </font></mark><mark style=\"background-color: hsl(120, 75%, 99%); opacity:1.0;                     line-height:1.75\"><font color=\"black\"> ##iu                    </font></mark><mark style=\"background-color: hsl(120, 75%, 99%); opacity:1.0;                     line-height:1.75\"><font color=\"black\"> ,                    </font></mark><mark style=\"background-color: hsl(120, 75%, 96%); opacity:1.0;                     line-height:1.75\"><font color=\"black\"> which                    </font></mark><mark style=\"background-color: hsl(120, 75%, 98%); opacity:1.0;                     line-height:1.75\"><font color=\"black\"> has                    </font></mark><mark style=\"background-color: hsl(120, 75%, 93%); opacity:1.0;                     line-height:1.75\"><font color=\"black\"> endorsed                    </font></mark><mark style=\"background-color: hsl(120, 75%, 98%); opacity:1.0;                     line-height:1.75\"><font color=\"black\"> hillary                    </font></mark><mark style=\"background-color: hsl(120, 75%, 86%); opacity:1.0;                     line-height:1.75\"><font color=\"black\"> clinton                    </font></mark><mark style=\"background-color: hsl(0, 75%, 90%); opacity:1.0;                     line-height:1.75\"><font color=\"black\"> ,                    </font></mark><mark style=\"background-color: hsl(120, 75%, 99%); opacity:1.0;                     line-height:1.75\"><font color=\"black\"> appears                    </font></mark><mark style=\"background-color: hsl(0, 75%, 100%); opacity:1.0;                     line-height:1.75\"><font color=\"black\"> [SEP]                    </font></mark></td><tr></table>"
            ],
            "text/plain": [
              "<IPython.core.display.HTML object>"
            ]
          },
          "metadata": {
            "tags": []
          }
        }
      ]
    },
    {
      "cell_type": "markdown",
      "metadata": {
        "id": "nneQDEZTolTW",
        "colab_type": "text"
      },
      "source": [
        "![image.png](data:image/png;base64,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)"
      ]
    },
    {
      "cell_type": "code",
      "metadata": {
        "id": "9yNtC1gIobAI",
        "colab_type": "code",
        "colab": {}
      },
      "source": [
        ""
      ],
      "execution_count": 0,
      "outputs": []
    }
  ]
}